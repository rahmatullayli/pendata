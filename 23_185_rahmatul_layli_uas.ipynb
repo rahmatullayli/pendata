{
  "nbformat": 4,
  "nbformat_minor": 0,
  "metadata": {
    "colab": {
      "provenance": [],
      "authorship_tag": "ABX9TyP6MxyYWdZ24QdcYcv3ISsc",
      "include_colab_link": true
    },
    "kernelspec": {
      "name": "python3",
      "display_name": "Python 3"
    },
    "language_info": {
      "name": "python"
    }
  },
  "cells": [
    {
      "cell_type": "markdown",
      "metadata": {
        "id": "view-in-github",
        "colab_type": "text"
      },
      "source": [
        "<a href=\"https://colab.research.google.com/github/rahmatullayli/pendata/blob/main/23_185_rahmatul_layli_uas.ipynb\" target=\"_parent\"><img src=\"https://colab.research.google.com/assets/colab-badge.svg\" alt=\"Open In Colab\"/></a>"
      ]
    },
    {
      "cell_type": "markdown",
      "source": [
        "# UAS\n",
        "\n",
        "Silahkan lakukan analyis terhadap salah satu data link berikut https://archive.ics.uci.edu/datasets?Task=Classification&skip=0&take=10&sort=desc&orderBy=NumHits&search=&Types=Multivariate&NumInstances=336&NumInstances=1041\n",
        "Dengan tahapan analysis data berdasarkan\n",
        "1.\tData understanding\n",
        "2.\tPreprocessing\n",
        "3.\tModelling\n",
        "4.\tEvaluasi\n",
        "\n",
        "Setelah evaluasi dilakukan lakukan deployment terhadap model terbaik tersebut\n",
        "Hasil analis digenerate di webstatis masing masing dan diupload"
      ],
      "metadata": {
        "id": "Qy_HZmkfjpax"
      }
    },
    {
      "cell_type": "markdown",
      "source": [
        "**🧪 1. Data Understanding**\n",
        "\n",
        "a. Tujuan:\n",
        "\n",
        "Memprediksi kualitas anggur berdasarkan sifat fisikokimia (misalnya: pH, alkohol, sulfur, dll.).\n",
        "\n",
        "b. Target Variable:\n",
        "\n",
        "quality (skor integer dari 0–10, mayoritas 3–8)\n",
        "\n",
        "c. Feature:\n",
        "\n",
        "\n",
        "\n",
        "*   fixed acidity\n",
        "\n",
        "*   volatile acidity\n",
        "*   citric acid\n",
        "\n",
        "\n",
        "*  residual sugar\n",
        "\n",
        "\n",
        "*   chlorides\n",
        "\n",
        "*   free sulfur dioxide\n",
        "*   total sulfur dioxide\n",
        "\n",
        "\n",
        "*   density\n",
        "\n",
        "\n",
        "\n",
        "*   pH\n",
        "\n",
        "*   sulphates\n",
        "*   alcohol\n",
        "\n"
      ],
      "metadata": {
        "id": "HFSbKomGjox_"
      }
    },
    {
      "cell_type": "markdown",
      "source": [
        "**🧹 2. Preprocessing**\n",
        "\n",
        "Langkah-langkah:\n",
        "\n",
        "1.   Load Dataset\n",
        "2.   Cek missing values: tidak ada missing.\n",
        "3.   Normalisasi fitur: MinMaxScaler\n",
        "4.   Re-label target (opsional klasifikasi):\n",
        "\n",
        "\n",
        "*   3-5 = low\n",
        "*   5= medium\n",
        "- 7-8 = high\n",
        "\n",
        "\n",
        "\n"
      ],
      "metadata": {
        "id": "dXErRl9Mjoja"
      }
    },
    {
      "cell_type": "code",
      "source": [
        "import pandas as pd\n",
        "from sklearn.preprocessing import MinMaxScaler  # ⬅️ Penting: ini harus diimpor\n",
        "\n",
        "# URL resmi dari UCI untuk red wine dataset\n",
        "url = \"https://archive.ics.uci.edu/ml/machine-learning-databases/wine-quality/winequality-red.csv\"\n",
        "\n",
        "# Load dataset langsung dari URL\n",
        "df = pd.read_csv(url, sep=';')\n",
        "\n",
        "# Cek data awal\n",
        "print(df.head())\n",
        "\n",
        "# Relabel target (klasifikasi)\n",
        "def relabel(q):\n",
        "    if q <= 5:\n",
        "        return 'low'\n",
        "    elif q == 6:\n",
        "        return 'medium'\n",
        "    else:\n",
        "        return 'high'\n",
        "\n",
        "df['quality_label'] = df['quality'].apply(relabel)\n",
        "\n",
        "# Normalisasi fitur\n",
        "scaler = MinMaxScaler()\n",
        "X = scaler.fit_transform(df.drop(['quality', 'quality_label'], axis=1))\n",
        "y = df['quality_label']\n"
      ],
      "metadata": {
        "colab": {
          "base_uri": "https://localhost:8080/"
        },
        "id": "7R9LYqGUmX6K",
        "outputId": "faac758f-d076-4271-94c7-1537904cf33f"
      },
      "execution_count": null,
      "outputs": [
        {
          "output_type": "stream",
          "name": "stdout",
          "text": [
            "   fixed acidity  volatile acidity  citric acid  residual sugar  chlorides  \\\n",
            "0            7.4              0.70         0.00             1.9      0.076   \n",
            "1            7.8              0.88         0.00             2.6      0.098   \n",
            "2            7.8              0.76         0.04             2.3      0.092   \n",
            "3           11.2              0.28         0.56             1.9      0.075   \n",
            "4            7.4              0.70         0.00             1.9      0.076   \n",
            "\n",
            "   free sulfur dioxide  total sulfur dioxide  density    pH  sulphates  \\\n",
            "0                 11.0                  34.0   0.9978  3.51       0.56   \n",
            "1                 25.0                  67.0   0.9968  3.20       0.68   \n",
            "2                 15.0                  54.0   0.9970  3.26       0.65   \n",
            "3                 17.0                  60.0   0.9980  3.16       0.58   \n",
            "4                 11.0                  34.0   0.9978  3.51       0.56   \n",
            "\n",
            "   alcohol  quality  \n",
            "0      9.4        5  \n",
            "1      9.8        5  \n",
            "2      9.8        5  \n",
            "3      9.8        6  \n",
            "4      9.4        5  \n"
          ]
        }
      ]
    },
    {
      "cell_type": "markdown",
      "source": [
        "**🤖 3. Modelling**\n",
        "\n",
        "a. Split Dataset"
      ],
      "metadata": {
        "id": "CPkhP6NVjoZ4"
      }
    },
    {
      "cell_type": "code",
      "source": [
        "from sklearn.model_selection import train_test_split\n",
        "\n",
        "X_train, X_test, y_train, y_test = train_test_split(\n",
        "    X, y, test_size=0.2, stratify=y, random_state=42)\n"
      ],
      "metadata": {
        "id": "q8F33avNnHl3"
      },
      "execution_count": null,
      "outputs": []
    },
    {
      "cell_type": "markdown",
      "source": [
        "b. Algoritma yang diuji:\n",
        "\n",
        "- Logistic Regression\n",
        "\n",
        "- Random Forest\n",
        "\n",
        "- Support Vector Machine (SVM)\n",
        "\n",
        "- K-Nearest Neighbors (KNN)"
      ],
      "metadata": {
        "id": "Nc457RctjoLs"
      }
    },
    {
      "cell_type": "code",
      "execution_count": null,
      "metadata": {
        "id": "hIIiTLVejYN8"
      },
      "outputs": [],
      "source": [
        "from sklearn.ensemble import RandomForestClassifier\n",
        "from sklearn.svm import SVC\n",
        "from sklearn.neighbors import KNeighborsClassifier\n",
        "from sklearn.linear_model import LogisticRegression\n",
        "\n",
        "models = {\n",
        "    'Random Forest': RandomForestClassifier(),\n",
        "    'SVM': SVC(),\n",
        "    'KNN': KNeighborsClassifier(),\n",
        "    'LogReg': LogisticRegression(max_iter=1000)\n",
        "}\n"
      ]
    },
    {
      "cell_type": "markdown",
      "source": [
        "**📊 4. Evaluasi**\n",
        "\n"
      ],
      "metadata": {
        "id": "Fgbc2dagneMp"
      }
    },
    {
      "cell_type": "code",
      "source": [
        "from sklearn.metrics import classification_report, accuracy_score\n",
        "\n",
        "for name, model in models.items():\n",
        "    model.fit(X_train, y_train)\n",
        "    preds = model.predict(X_test)\n",
        "    acc = accuracy_score(y_test, preds)\n",
        "    print(f\"{name} Accuracy: {acc:.2f}\")\n",
        "    print(classification_report(y_test, preds))\n"
      ],
      "metadata": {
        "colab": {
          "base_uri": "https://localhost:8080/"
        },
        "id": "OC8jM2dlnhyq",
        "outputId": "8cbe7164-1ba5-40bb-8d09-a01d718171de"
      },
      "execution_count": null,
      "outputs": [
        {
          "output_type": "stream",
          "name": "stdout",
          "text": [
            "Random Forest Accuracy: 0.76\n",
            "              precision    recall  f1-score   support\n",
            "\n",
            "        high       0.69      0.56      0.62        43\n",
            "         low       0.81      0.85      0.83       149\n",
            "      medium       0.73      0.73      0.73       128\n",
            "\n",
            "    accuracy                           0.76       320\n",
            "   macro avg       0.74      0.71      0.72       320\n",
            "weighted avg       0.76      0.76      0.76       320\n",
            "\n",
            "SVM Accuracy: 0.64\n",
            "              precision    recall  f1-score   support\n",
            "\n",
            "        high       0.54      0.35      0.42        43\n",
            "         low       0.70      0.78      0.74       149\n",
            "      medium       0.58      0.57      0.57       128\n",
            "\n",
            "    accuracy                           0.64       320\n",
            "   macro avg       0.60      0.57      0.58       320\n",
            "weighted avg       0.63      0.64      0.63       320\n",
            "\n",
            "KNN Accuracy: 0.60\n",
            "              precision    recall  f1-score   support\n",
            "\n",
            "        high       0.47      0.53      0.50        43\n",
            "         low       0.65      0.74      0.69       149\n",
            "      medium       0.56      0.45      0.50       128\n",
            "\n",
            "    accuracy                           0.60       320\n",
            "   macro avg       0.56      0.58      0.57       320\n",
            "weighted avg       0.59      0.60      0.59       320\n",
            "\n",
            "LogReg Accuracy: 0.61\n",
            "              precision    recall  f1-score   support\n",
            "\n",
            "        high       0.55      0.26      0.35        43\n",
            "         low       0.68      0.78      0.73       149\n",
            "      medium       0.52      0.53      0.53       128\n",
            "\n",
            "    accuracy                           0.61       320\n",
            "   macro avg       0.59      0.52      0.53       320\n",
            "weighted avg       0.60      0.61      0.60       320\n",
            "\n"
          ]
        }
      ]
    },
    {
      "cell_type": "markdown",
      "source": [
        " code Hasil Evaluasi:"
      ],
      "metadata": {
        "id": "yqEWzHnwoL5p"
      }
    },
    {
      "cell_type": "code",
      "source": [
        "from sklearn.model_selection import train_test_split\n",
        "from sklearn.metrics import accuracy_score\n",
        "from sklearn.ensemble import RandomForestClassifier\n",
        "from sklearn.svm import SVC\n",
        "from sklearn.neighbors import KNeighborsClassifier\n",
        "from sklearn.linear_model import LogisticRegression\n",
        "import pandas as pd\n",
        "\n",
        "# Split data\n",
        "X_train, X_test, y_train, y_test = train_test_split(\n",
        "    X, y, test_size=0.2, stratify=y, random_state=42)\n",
        "\n",
        "# Daftar model\n",
        "models = {\n",
        "    'Random Forest': RandomForestClassifier(),\n",
        "    'SVM': SVC(),\n",
        "    'KNN': KNeighborsClassifier(),\n",
        "    'Logistic Regression': LogisticRegression(max_iter=1000)\n",
        "}\n",
        "\n",
        "# Simpan hasil evaluasi\n",
        "results = []\n",
        "\n",
        "# Training dan evaluasi\n",
        "for name, model in models.items():\n",
        "    model.fit(X_train, y_train)\n",
        "    preds = model.predict(X_test)\n",
        "    acc = accuracy_score(y_test, preds)\n",
        "    results.append({'Model': name, 'Accuracy': round(acc, 2)})\n",
        "\n",
        "# Buat DataFrame ringkasan\n",
        "results_df = pd.DataFrame(results)\n",
        "print(results_df)\n"
      ],
      "metadata": {
        "colab": {
          "base_uri": "https://localhost:8080/"
        },
        "id": "l_xFASU9oGZi",
        "outputId": "f5091f4d-701e-48d0-ac60-35cc523c3d42"
      },
      "execution_count": null,
      "outputs": [
        {
          "output_type": "stream",
          "name": "stdout",
          "text": [
            "                 Model  Accuracy\n",
            "0        Random Forest      0.76\n",
            "1                  SVM      0.64\n",
            "2                  KNN      0.60\n",
            "3  Logistic Regression      0.61\n"
          ]
        }
      ]
    }
  ]
}