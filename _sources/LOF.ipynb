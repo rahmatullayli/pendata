{
  "nbformat": 4,
  "nbformat_minor": 0,
  "metadata": {
    "colab": {
      "provenance": []
    },
    "kernelspec": {
      "name": "python3",
      "display_name": "Python 3"
    },
    "language_info": {
      "name": "python"
    }
  },
  "cells": [
    {
      "cell_type": "markdown",
      "source": [
        "# Local Outlier Factor\n",
        "\n",
        "Algoritme Faktor Outlier Lokal (LOF) adalah metode deteksi anomali tanpa pengawasan yang menghitung deviasi kerapatan lokal dari titik data tertentu terhadap tetangganya. Algoritma ini mengukur seberapa jauh suatu titik data berbeda dari tetangga terdekatnya dengan membandingkan kepadatan lokal titik tersebut terhadap kepadatan lokal titik-titik di sekitarnya.\n",
        "\n",
        "## Konsep Dasar LOF\n",
        "\n",
        "1. Kepedekatan Local(Local Density)\n",
        "\n",
        "\n",
        "*   LOF menggunakan konsep k-tetangga terdekat (k-nearest neighbors) untuk menentukan kepadatan suatu titik dibandingkan dengan kepadatan tetangganya.\n",
        "*   Jika suatu titik memiliki kepadatan yang jauh lebih rendah dibandingkan tetangganya, maka titik tersebut kemungkinan merupakan outlier.\n",
        "\n",
        "2. Rasio Kepadatan Relatif\n",
        "\n",
        "* LOF menghitung nilai kepadatan relatif dari suatu titik dengan membandingkan dengan titik titik di sekitarnya.\n",
        "* Nilai LOF yang lebih besar menunjukkan bahwa titik tersebut lebih cenderung menjadi outlier\n",
        "\n",
        "3. Interpretasi Niai LOF\n",
        "\n",
        "* Dapat menangani dataset dengan distribusi yang tidak seragam\n",
        "* tidak hanya mempertimbangkan jarak absolut,tetapi juga kepadatan relatif sehingga lebih efektif dalam mendeteksi outlier lokal\n",
        "\n",
        "\n",
        "## Kelebihan LOF\n",
        "\n",
        "* Dapat menangani dataset dengan distribusi yang seragam.\n",
        "* tidak hanya mempertimbangkan jarak obsolut, tetapi juga kepadatan relatif,sehingga lebih efektif dalam mendeteksi outlier\n",
        "\n",
        "## Kekurangan LOF\n",
        "\n",
        "* Pemilihan parameter k sangat mempengaruhi hasil\n",
        "* Komputasi relatif mahal karena melibatkan perhitungan jarak ke k-tetagga terdekat.\n"
      ],
      "metadata": {
        "id": "1mPQ_3L8u_ZC"
      }
    },
    {
      "cell_type": "markdown",
      "source": [
        "## Tahapan penerapan konsep penggunaan LOF"
      ],
      "metadata": {
        "id": "-qndQqxLIts6"
      }
    },
    {
      "cell_type": "markdown",
      "source": [
        "\n",
        "\n",
        "1. Menampilkan data"
      ],
      "metadata": {
        "id": "jHjH3k9ODtgO"
      }
    },
    {
      "cell_type": "code",
      "source": [
        "import pandas as pd  # Import library pandas\n",
        "\n",
        "# Data tanpa tanda kurung ekstra\n",
        "data = [\n",
        "    [2, 4], [4, 5], [2, 3], [5, 6], [6, 7],\n",
        "    [7, 8], [8, 9], [9, 10], [80, 110], [10, 11]\n",
        "]\n",
        "\n",
        "# Membuat DataFrame\n",
        "df = pd.DataFrame(data, columns=['X', 'Y'])\n",
        "\n",
        "# Menampilkan tabel\n",
        "print(df)\n"
      ],
      "metadata": {
        "colab": {
          "base_uri": "https://localhost:8080/"
        },
        "id": "pLo5CevHFu2e",
        "outputId": "168f47c2-3c35-403f-dd1f-d7de3d1d2571"
      },
      "execution_count": 1,
      "outputs": [
        {
          "output_type": "stream",
          "name": "stdout",
          "text": [
            "    X    Y\n",
            "0   2    4\n",
            "1   4    5\n",
            "2   2    3\n",
            "3   5    6\n",
            "4   6    7\n",
            "5   7    8\n",
            "6   8    9\n",
            "7   9   10\n",
            "8  80  110\n",
            "9  10   11\n"
          ]
        }
      ]
    },
    {
      "cell_type": "markdown",
      "source": [
        "2. Menentukan K-Neighbors\n",
        "* banyak tetangga yang digunakan sebagai parameter\n",
        "* Contoh: k=3 Maka 3 titik yang merupakan tetangga terdekat dari setiap\n",
        "\n",
        "Hitung jarak menggunakan rumus euncludean distance:\n",
        "\n",
        "\n",
        "$\n",
        "d(A, B) = \\sqrt{(x_B - x_A)^2 + (y_B - y_A)^2}\n",
        "$"
      ],
      "metadata": {
        "id": "KqHQ78LGAwQX"
      }
    },
    {
      "cell_type": "code",
      "source": [
        "import pandas as pd\n",
        "import numpy as np\n",
        "from tabulate import tabulate\n",
        "\n",
        "# Data awal\n",
        "data = np.array([\n",
        "    [2, 4], [4, 5], [2, 3], [5, 6], [6, 7],\n",
        "    [7, 8], [8, 9], [9, 10], [80, 110], [10, 11]\n",
        "])\n",
        "\n",
        "# Membuat DataFrame\n",
        "df = pd.DataFrame(data, columns=['X', 'Y'])\n",
        "\n",
        "# Fungsi untuk menghitung jarak Euclidean\n",
        "def euclidean_distance(p1, p2):\n",
        "    return np.sqrt(np.sum((p1 - p2) ** 2))\n",
        "\n",
        "# Menyimpan indeks dan jarak tetangga terdekat\n",
        "k = 3  # Jumlah tetangga terdekat\n",
        "neighbors_indices = []\n",
        "neighbors_distances = []\n",
        "\n",
        "# Mencari k tetangga terdekat untuk setiap titik\n",
        "for i, point in enumerate(data):\n",
        "    distances = []\n",
        "    for j, other_point in enumerate(data):\n",
        "        if i != j:\n",
        "            distances.append((j, euclidean_distance(point, other_point)))  # (index, distance)\n",
        "\n",
        "    # Urutkan berdasarkan jarak (terdekat ke terjauh) dan ambil k tetangga\n",
        "    distances.sort(key=lambda x: x[1])\n",
        "    nearest_neighbors = distances[:k]\n",
        "\n",
        "    # Simpan indeks dan jarak tetangga ke-1, ke-2, ke-3\n",
        "    neighbors_indices.append([idx for idx, _ in nearest_neighbors])\n",
        "    neighbors_distances.append([dist for _, dist in nearest_neighbors])\n",
        "\n",
        "# Menambahkan hasil ke DataFrame\n",
        "for i in range(3):  # Ambil 3 tetangga terdekat\n",
        "    df[f'k-neighbors_{i+1}'] = [neighbors_distances[j][i] for j in range(len(data))]\n",
        "    df[f'k-index_{i+1}'] = [neighbors_indices[j][i] for j in range(len(data))]\n",
        "\n",
        "# Menampilkan tabel dalam format rapi\n",
        "print(tabulate(df, headers='keys', tablefmt='grid'))\n"
      ],
      "metadata": {
        "colab": {
          "base_uri": "https://localhost:8080/"
        },
        "id": "1zm3tioTCgYv",
        "outputId": "438c43dd-fc39-4452-bf69-3287d1c3d25a"
      },
      "execution_count": 2,
      "outputs": [
        {
          "output_type": "stream",
          "name": "stdout",
          "text": [
            "+----+-----+-----+-----------------+-------------+-----------------+-------------+-----------------+-------------+\n",
            "|    |   X |   Y |   k-neighbors_1 |   k-index_1 |   k-neighbors_2 |   k-index_2 |   k-neighbors_3 |   k-index_3 |\n",
            "+====+=====+=====+=================+=============+=================+=============+=================+=============+\n",
            "|  0 |   2 |   4 |         1       |           2 |         2.23607 |           1 |         3.60555 |           3 |\n",
            "+----+-----+-----+-----------------+-------------+-----------------+-------------+-----------------+-------------+\n",
            "|  1 |   4 |   5 |         1.41421 |           3 |         2.23607 |           0 |         2.82843 |           2 |\n",
            "+----+-----+-----+-----------------+-------------+-----------------+-------------+-----------------+-------------+\n",
            "|  2 |   2 |   3 |         1       |           0 |         2.82843 |           1 |         4.24264 |           3 |\n",
            "+----+-----+-----+-----------------+-------------+-----------------+-------------+-----------------+-------------+\n",
            "|  3 |   5 |   6 |         1.41421 |           1 |         1.41421 |           4 |         2.82843 |           5 |\n",
            "+----+-----+-----+-----------------+-------------+-----------------+-------------+-----------------+-------------+\n",
            "|  4 |   6 |   7 |         1.41421 |           3 |         1.41421 |           5 |         2.82843 |           1 |\n",
            "+----+-----+-----+-----------------+-------------+-----------------+-------------+-----------------+-------------+\n",
            "|  5 |   7 |   8 |         1.41421 |           4 |         1.41421 |           6 |         2.82843 |           3 |\n",
            "+----+-----+-----+-----------------+-------------+-----------------+-------------+-----------------+-------------+\n",
            "|  6 |   8 |   9 |         1.41421 |           5 |         1.41421 |           7 |         2.82843 |           4 |\n",
            "+----+-----+-----+-----------------+-------------+-----------------+-------------+-----------------+-------------+\n",
            "|  7 |   9 |  10 |         1.41421 |           6 |         1.41421 |           9 |         2.82843 |           5 |\n",
            "+----+-----+-----+-----------------+-------------+-----------------+-------------+-----------------+-------------+\n",
            "|  8 |  80 | 110 |       121.248   |           9 |       122.642   |           7 |       124.036   |           6 |\n",
            "+----+-----+-----+-----------------+-------------+-----------------+-------------+-----------------+-------------+\n",
            "|  9 |  10 |  11 |         1.41421 |           7 |         2.82843 |           6 |         4.24264 |           5 |\n",
            "+----+-----+-----+-----------------+-------------+-----------------+-------------+-----------------+-------------+\n"
          ]
        }
      ]
    },
    {
      "cell_type": "markdown",
      "source": [
        "3. Menentukan k-Distance\n",
        "\n",
        "* jarak antara titik dengan tetangga ke-K terdekat\n",
        "* contoh: K=3 -> jarak ke tetangga ketiga terdekat"
      ],
      "metadata": {
        "id": "YuHIVI5QQOD9"
      }
    },
    {
      "cell_type": "code",
      "source": [
        "import pandas as pd\n",
        "import numpy as np\n",
        "from tabulate import tabulate\n",
        "\n",
        "# Data awal\n",
        "data = np.array([\n",
        "    [2, 4], [4, 5], [2, 3], [5, 6], [6, 7],\n",
        "    [7, 8], [8, 9], [9, 10], [80, 110], [10, 11]\n",
        "])\n",
        "\n",
        "# Membuat DataFrame\n",
        "df = pd.DataFrame(data, columns=['X', 'Y'])\n",
        "\n",
        "# Fungsi untuk menghitung jarak Euclidean\n",
        "def euclidean_distance(p1, p2):\n",
        "    return np.sqrt(np.sum((p1 - p2) ** 2))\n",
        "\n",
        "# Menyimpan k-distance\n",
        "k = 3  # Tetangga ke-3\n",
        "k_distances = []\n",
        "\n",
        "# Mencari k-distance untuk setiap titik\n",
        "for i, point in enumerate(data):\n",
        "    distances = []\n",
        "    for j, other_point in enumerate(data):\n",
        "        if i != j:\n",
        "            distances.append(euclidean_distance(point, other_point))  # Simpan jarak\n",
        "\n",
        "    distances.sort()  # Urutkan jarak dari kecil ke besar\n",
        "    k_distances.append(distances[k-1])  # Ambil jarak ke tetangga ke-3\n",
        "\n",
        "# Menambahkan k-distance ke DataFrame\n",
        "df['k-distance'] = k_distances\n",
        "\n",
        "# Menampilkan tabel hanya dengan k-distance\n",
        "print(tabulate(df[['X', 'Y', 'k-distance']], headers='keys', tablefmt='grid'))\n"
      ],
      "metadata": {
        "colab": {
          "base_uri": "https://localhost:8080/"
        },
        "id": "S1_H2CbXQMh0",
        "outputId": "0ba649a1-dc53-4c96-845d-c19d907acc4f"
      },
      "execution_count": 3,
      "outputs": [
        {
          "output_type": "stream",
          "name": "stdout",
          "text": [
            "+----+-----+-----+--------------+\n",
            "|    |   X |   Y |   k-distance |\n",
            "+====+=====+=====+==============+\n",
            "|  0 |   2 |   4 |      3.60555 |\n",
            "+----+-----+-----+--------------+\n",
            "|  1 |   4 |   5 |      2.82843 |\n",
            "+----+-----+-----+--------------+\n",
            "|  2 |   2 |   3 |      4.24264 |\n",
            "+----+-----+-----+--------------+\n",
            "|  3 |   5 |   6 |      2.82843 |\n",
            "+----+-----+-----+--------------+\n",
            "|  4 |   6 |   7 |      2.82843 |\n",
            "+----+-----+-----+--------------+\n",
            "|  5 |   7 |   8 |      2.82843 |\n",
            "+----+-----+-----+--------------+\n",
            "|  6 |   8 |   9 |      2.82843 |\n",
            "+----+-----+-----+--------------+\n",
            "|  7 |   9 |  10 |      2.82843 |\n",
            "+----+-----+-----+--------------+\n",
            "|  8 |  80 | 110 |    124.036   |\n",
            "+----+-----+-----+--------------+\n",
            "|  9 |  10 |  11 |      4.24264 |\n",
            "+----+-----+-----+--------------+\n"
          ]
        }
      ]
    },
    {
      "cell_type": "markdown",
      "source": [
        "3. Menentukan RD(Reachability Distance)\n",
        "\n",
        "**Reachability Distance (RD)** adalah ukuran dalam algoritma clustering (seperti **OPTICS**) yang menunjukkan seberapa jauh sebuah titik \\(A\\) \"terjangkau\" dari titik \\(B\\).\n",
        "\n",
        "RD mempertimbangkan dua hal:  \n",
        "1. **k-distance(B)**: Jarak minimum agar \\(B\\) memiliki setidaknya \\(k\\) tetangga.  \n",
        "2. **d(A, B)**: Jarak langsung antara \\(A\\) dan \\(B\\).\n",
        "\n",
        "RD dihitung sebagai nilai maksimum dari kedua jarak tersebut. Ini membantu dalam menentukan kepadatan data dan struktur klaster, di mana titik yang lebih dekat (dengan RD kecil) dianggap lebih terhubung dalam suatu klaster. Dengan Rumus:\n",
        "\n",
        "${reachability-distance}_k(A, B) = \\max\\{k\\text{-distance}(B), d(A, B)\\}$\n"
      ],
      "metadata": {
        "id": "RSrdU024Ky6q"
      }
    },
    {
      "cell_type": "code",
      "source": [
        "import numpy as np\n",
        "import pandas as pd\n",
        "from tabulate import tabulate\n",
        "\n",
        "# Data awal\n",
        "data = np.array([\n",
        "    [2, 4], [4, 5], [2, 3], [5, 6], [6, 7],\n",
        "    [7, 8], [8, 9], [9, 10], [80, 110], [10, 11]\n",
        "])\n",
        "\n",
        "# Fungsi untuk menghitung jarak Euclidean\n",
        "def euclidean_distance(p1, p2):\n",
        "    return np.sqrt(np.sum((p1 - p2) ** 2))\n",
        "\n",
        "# Parameter k\n",
        "k = 3\n",
        "\n",
        "# List untuk menyimpan hasil RD setiap titik\n",
        "rd_results = []\n",
        "\n",
        "# Menghitung RD untuk setiap indeks\n",
        "for index_A, point_A in enumerate(data):\n",
        "    # Menghitung jarak dari A ke semua titik lain\n",
        "    distances = []\n",
        "    for j, other_point in enumerate(data):\n",
        "        if index_A != j:\n",
        "            distances.append((j, euclidean_distance(point_A, other_point)))  # (index, distance)\n",
        "\n",
        "    # Urutkan berdasarkan jarak dan ambil k tetangga terdekat\n",
        "    distances.sort(key=lambda x: x[1])\n",
        "    nearest_neighbors = distances[:k]\n",
        "    k_distance_A = nearest_neighbors[-1][1]  # k-distance dari A\n",
        "\n",
        "    # Menentukan k-distance untuk setiap tetangga\n",
        "    k_distances_B = {}\n",
        "    for neighbor_index, _ in nearest_neighbors:\n",
        "        neighbor_distances = []\n",
        "        for j, other_point in enumerate(data):\n",
        "            if neighbor_index != j:\n",
        "                neighbor_distances.append(euclidean_distance(data[neighbor_index], other_point))\n",
        "\n",
        "        neighbor_distances.sort()\n",
        "        k_distances_B[neighbor_index] = neighbor_distances[k-1]  # k-distance dari B\n",
        "\n",
        "    # Menghitung RD untuk setiap tetangga\n",
        "    RD_values = []\n",
        "    RD_neighbors = []\n",
        "    for neighbor_index, distance in nearest_neighbors:\n",
        "        RD_AB = max(k_distances_B[neighbor_index], distance)\n",
        "        RD_values.append(RD_AB)\n",
        "        RD_neighbors.append(round(RD_AB, 3))\n",
        "\n",
        "\n",
        "    # Menyimpan hasil\n",
        "    rd_results.append([\n",
        "        index_A,\n",
        "        nearest_neighbors[0][0], round(nearest_neighbors[0][1], 3), RD_neighbors[0],\n",
        "        nearest_neighbors[1][0], round(nearest_neighbors[1][1], 3), RD_neighbors[1],\n",
        "        nearest_neighbors[2][0], round(nearest_neighbors[2][1], 3), RD_neighbors[2]\n",
        "    ])\n",
        "\n",
        "# Membuat DataFrame untuk hasil RD\n",
        "df_rd = pd.DataFrame(rd_results, columns=[\n",
        "    \"Indeks\",\n",
        "    \"Tetangga_1\", \"Jarak_1\", \"RD_1\",\n",
        "    \"Tetangga_2\", \"Jarak_2\", \"RD_2\",\n",
        "    \"Tetangga_3\", \"Jarak_3\", \"RD_3\"\n",
        "])\n",
        "\n",
        "# Menampilkan hasil dalam bentuk tabel\n",
        "print(tabulate(df_rd, headers=\"keys\", tablefmt=\"grid\"))\n"
      ],
      "metadata": {
        "colab": {
          "base_uri": "https://localhost:8080/"
        },
        "id": "cimFsH82u-wF",
        "outputId": "2eebf5c6-650a-465d-a2f2-4cf080484270"
      },
      "execution_count": 4,
      "outputs": [
        {
          "output_type": "stream",
          "name": "stdout",
          "text": [
            "+----+----------+--------------+-----------+---------+--------------+-----------+---------+--------------+-----------+---------+\n",
            "|    |   Indeks |   Tetangga_1 |   Jarak_1 |    RD_1 |   Tetangga_2 |   Jarak_2 |    RD_2 |   Tetangga_3 |   Jarak_3 |    RD_3 |\n",
            "+====+==========+==============+===========+=========+==============+===========+=========+==============+===========+=========+\n",
            "|  0 |        0 |            2 |     1     |   4.243 |            1 |     2.236 |   2.828 |            3 |     3.606 |   3.606 |\n",
            "+----+----------+--------------+-----------+---------+--------------+-----------+---------+--------------+-----------+---------+\n",
            "|  1 |        1 |            3 |     1.414 |   2.828 |            0 |     2.236 |   3.606 |            2 |     2.828 |   4.243 |\n",
            "+----+----------+--------------+-----------+---------+--------------+-----------+---------+--------------+-----------+---------+\n",
            "|  2 |        2 |            0 |     1     |   3.606 |            1 |     2.828 |   2.828 |            3 |     4.243 |   4.243 |\n",
            "+----+----------+--------------+-----------+---------+--------------+-----------+---------+--------------+-----------+---------+\n",
            "|  3 |        3 |            1 |     1.414 |   2.828 |            4 |     1.414 |   2.828 |            5 |     2.828 |   2.828 |\n",
            "+----+----------+--------------+-----------+---------+--------------+-----------+---------+--------------+-----------+---------+\n",
            "|  4 |        4 |            3 |     1.414 |   2.828 |            5 |     1.414 |   2.828 |            1 |     2.828 |   2.828 |\n",
            "+----+----------+--------------+-----------+---------+--------------+-----------+---------+--------------+-----------+---------+\n",
            "|  5 |        5 |            4 |     1.414 |   2.828 |            6 |     1.414 |   2.828 |            3 |     2.828 |   2.828 |\n",
            "+----+----------+--------------+-----------+---------+--------------+-----------+---------+--------------+-----------+---------+\n",
            "|  6 |        6 |            5 |     1.414 |   2.828 |            7 |     1.414 |   2.828 |            4 |     2.828 |   2.828 |\n",
            "+----+----------+--------------+-----------+---------+--------------+-----------+---------+--------------+-----------+---------+\n",
            "|  7 |        7 |            6 |     1.414 |   2.828 |            9 |     1.414 |   4.243 |            5 |     2.828 |   2.828 |\n",
            "+----+----------+--------------+-----------+---------+--------------+-----------+---------+--------------+-----------+---------+\n",
            "|  8 |        8 |            9 |   121.248 | 121.248 |            7 |   122.642 | 122.642 |            6 |   124.036 | 124.036 |\n",
            "+----+----------+--------------+-----------+---------+--------------+-----------+---------+--------------+-----------+---------+\n",
            "|  9 |        9 |            7 |     1.414 |   2.828 |            6 |     2.828 |   2.828 |            5 |     4.243 |   4.243 |\n",
            "+----+----------+--------------+-----------+---------+--------------+-----------+---------+--------------+-----------+---------+\n"
          ]
        }
      ]
    },
    {
      "cell_type": "markdown",
      "source": [
        "4. Menghitung Kepadatan Capaian Local (LRD)\n",
        "\n",
        "Local Reachability Density (LRD) adalah kebalikan dari rata-rata Reachability Distance (RD) dari suatu titik ke tetangga terdekatnya. LRD digunakan dalam algoritma Local Outlier Factor (LOF) untuk mengukur kepadatan lokal suatu titik dibandingkan dengan tetangganya.\n",
        "\n",
        "Rumus:\n",
        "\n",
        "$\n",
        "LRD(A) = \\frac{k}{\\sum_{B \\in kNN(A)} RD(A, B)}\n",
        "$\n",
        "\n",
        "Intrepretasi:\n",
        "\n",
        "* LRD rendah -> Wilayah jarang (calon outlier)\n",
        "* LRD Tinggi -> wilayah padat\n"
      ],
      "metadata": {
        "id": "jWY5665pX0SQ"
      }
    },
    {
      "cell_type": "code",
      "execution_count": 5,
      "metadata": {
        "colab": {
          "base_uri": "https://localhost:8080/"
        },
        "id": "5H1n5L_1t89W",
        "outputId": "4efffb6e-5c0b-46ea-b515-564d99fd2424"
      },
      "outputs": [
        {
          "output_type": "stream",
          "name": "stdout",
          "text": [
            "+----+-----+-----+------------+\n",
            "|    |   X |   Y |        LRD |\n",
            "+====+=====+=====+============+\n",
            "|  0 |   2 |   4 | 0.280988   |\n",
            "+----+-----+-----+------------+\n",
            "|  1 |   4 |   5 | 0.280988   |\n",
            "+----+-----+-----+------------+\n",
            "|  2 |   2 |   3 | 0.280988   |\n",
            "+----+-----+-----+------------+\n",
            "|  3 |   5 |   6 | 0.353553   |\n",
            "+----+-----+-----+------------+\n",
            "|  4 |   6 |   7 | 0.353553   |\n",
            "+----+-----+-----+------------+\n",
            "|  5 |   7 |   8 | 0.353553   |\n",
            "+----+-----+-----+------------+\n",
            "|  6 |   8 |   9 | 0.353553   |\n",
            "+----+-----+-----+------------+\n",
            "|  7 |   9 |  10 | 0.303046   |\n",
            "+----+-----+-----+------------+\n",
            "|  8 |  80 | 110 | 0.00815382 |\n",
            "+----+-----+-----+------------+\n",
            "|  9 |  10 |  11 | 0.303046   |\n",
            "+----+-----+-----+------------+\n"
          ]
        }
      ],
      "source": [
        "import pandas as pd\n",
        "import numpy as np\n",
        "from tabulate import tabulate\n",
        "\n",
        "# Data awal\n",
        "data = np.array([\n",
        "    [2, 4], [4, 5], [2, 3], [5, 6], [6, 7],\n",
        "    [7, 8], [8, 9], [9, 10], [80, 110], [10, 11]\n",
        "])\n",
        "\n",
        "# Membuat DataFrame\n",
        "df = pd.DataFrame(data, columns=['X', 'Y'])\n",
        "\n",
        "# Fungsi untuk menghitung jarak Euclidean\n",
        "def euclidean_distance(p1, p2):\n",
        "    return np.sqrt(np.sum((p1 - p2) ** 2))\n",
        "\n",
        "# Parameter k (jumlah tetangga)\n",
        "k = 3\n",
        "\n",
        "# Menyimpan indeks dan jarak tetangga terdekat\n",
        "neighbors_indices = []\n",
        "neighbors_distances = []\n",
        "\n",
        "# Mencari k tetangga terdekat untuk setiap titik\n",
        "for i, point in enumerate(data):\n",
        "    distances = []\n",
        "    for j, other_point in enumerate(data):\n",
        "        if i != j:\n",
        "            distances.append((j, euclidean_distance(point, other_point)))  # (index, distance)\n",
        "\n",
        "    # Urutkan berdasarkan jarak dan ambil k tetangga terdekat\n",
        "    distances.sort(key=lambda x: x[1])\n",
        "    nearest_neighbors = distances[:k]\n",
        "\n",
        "    # Simpan indeks dan jarak tetangga\n",
        "    neighbors_indices.append([idx for idx, _ in nearest_neighbors])\n",
        "    neighbors_distances.append([dist for _, dist in nearest_neighbors])\n",
        "\n",
        "# Hitung RD untuk setiap indeks\n",
        "reachability_distances = []\n",
        "for i in range(len(data)):\n",
        "    rd_values = []\n",
        "    for j, neighbor_idx in enumerate(neighbors_indices[i]):\n",
        "        core_distance = max(neighbors_distances[neighbor_idx])  # Core distance dari neighbor\n",
        "        rd = max(core_distance, neighbors_distances[i][j])\n",
        "        rd_values.append(rd)\n",
        "    reachability_distances.append(rd_values)\n",
        "\n",
        "# Hitung LRD untuk setiap titik\n",
        "lrd_values = []\n",
        "for i in range(len(data)):\n",
        "    sum_rd = sum(reachability_distances[i])\n",
        "    lrd = k / sum_rd if sum_rd != 0 else 0\n",
        "    lrd_values.append(lrd)\n",
        "\n",
        "# Menambahkan hasil ke DataFrame\n",
        "df['LRD'] = lrd_values\n",
        "\n",
        "# Menampilkan hasil dalam bentuk tabel\n",
        "print(tabulate(df, headers='keys', tablefmt='grid'))\n"
      ]
    },
    {
      "cell_type": "markdown",
      "source": [
        "5. Menentukan Faktor Outlier Local(LOF)\n",
        "\n",
        "Rumus:\n",
        "\n",
        "$\n",
        "\\text{LOF}_k(A) := \\frac{1}{|N_k(A)|} \\sum_{B \\in N_k(A)} \\frac{\\text{lrd}_k(B)}{\\text{lrd}_k(A)} = \\frac{1}{|N_k(A)| \\cdot \\text{lrd}_k(A)} \\sum_{B \\in N_k(A)} \\text{lrd}_k(B)\n",
        "$\n",
        "\n",
        "\n",
        "Interpretasi:\n",
        "\n",
        "* LOF ≈ 1 ->inlier(kepadatan mirip tetangga)\n",
        "* LOF > 1 ->Outlier(kepadatan lebih rendah"
      ],
      "metadata": {
        "id": "Xae-6hZjZF6_"
      }
    },
    {
      "cell_type": "code",
      "source": [
        "import pandas as pd\n",
        "import numpy as np\n",
        "from scipy.spatial.distance import euclidean\n",
        "from tabulate import tabulate\n",
        "\n",
        "# Data awal\n",
        "data = np.array([\n",
        "    [2, 4], [4, 5], [2, 3], [5, 6], [6, 7],\n",
        "    [7, 8], [8, 9], [9, 10], [80, 110], [10, 11]\n",
        "])\n",
        "\n",
        "# Jumlah tetangga k\n",
        "k = 3\n",
        "\n",
        "# Fungsi untuk menghitung jarak Euclidean\n",
        "def euclidean_distance(p1, p2):\n",
        "    return euclidean(p1, p2)\n",
        "\n",
        "# Mencari k tetangga terdekat untuk setiap titik\n",
        "neighbors_indices = []\n",
        "k_distance = []\n",
        "\n",
        "for i, point in enumerate(data):\n",
        "    distances = [(j, euclidean_distance(point, other)) for j, other in enumerate(data) if i != j]\n",
        "    distances.sort(key=lambda x: x[1])  # Urutkan berdasarkan jarak\n",
        "    nearest_neighbors = distances[:k]\n",
        "\n",
        "    neighbors_indices.append([idx for idx, _ in nearest_neighbors])\n",
        "    k_distance.append(nearest_neighbors[-1][1])  # k-distance adalah jarak ke tetangga ke-k\n",
        "\n",
        "# Menghitung Reachability Distance (RD)\n",
        "rd_values = []\n",
        "for i in range(len(data)):\n",
        "    rd_i = [max(k_distance[j], euclidean_distance(data[i], data[j])) for j in neighbors_indices[i]]\n",
        "    rd_values.append(rd_i)\n",
        "\n",
        "# Menghitung Local Reachability Density (LRD)\n",
        "lrd_values = [k / sum(rd) for rd in rd_values]\n",
        "\n",
        "# Menghitung Local Outlier Factor (LOF)\n",
        "lof_values = []\n",
        "for i in range(len(data)):\n",
        "    lof = sum(lrd_values[j] for j in neighbors_indices[i]) / (k * lrd_values[i])\n",
        "    lof_values.append(lof)\n",
        "\n",
        "# Menandai outlier berdasarkan threshold LOF > 1.5\n",
        "outlier_labels = [\"Outlier\" if lof > 1.5 else \"Normal\" for lof in lof_values]\n",
        "\n",
        "# Membuat DataFrame untuk hasil akhir\n",
        "df = pd.DataFrame(data, columns=['X', 'Y'])\n",
        "df['LOF'] = lof_values\n",
        "df['Outlier'] = outlier_labels\n",
        "\n",
        "# Menampilkan tabel dengan format rapi\n",
        "print(tabulate(df, headers='keys', tablefmt='grid'))"
      ],
      "metadata": {
        "colab": {
          "base_uri": "https://localhost:8080/"
        },
        "id": "tTNGoe8HbSmX",
        "outputId": "07e8869b-6e0c-4977-e0eb-0bcaf2b0bf8e"
      },
      "execution_count": 6,
      "outputs": [
        {
          "output_type": "stream",
          "name": "stdout",
          "text": [
            "+----+-----+-----+-----------+-----------+\n",
            "|    |   X |   Y |       LOF | Outlier   |\n",
            "+====+=====+=====+===========+===========+\n",
            "|  0 |   2 |   4 |  1.08608  | Normal    |\n",
            "+----+-----+-----+-----------+-----------+\n",
            "|  1 |   4 |   5 |  1.08608  | Normal    |\n",
            "+----+-----+-----+-----------+-----------+\n",
            "|  2 |   2 |   3 |  1.08608  | Normal    |\n",
            "+----+-----+-----+-----------+-----------+\n",
            "|  3 |   5 |   6 |  0.931585 | Normal    |\n",
            "+----+-----+-----+-----------+-----------+\n",
            "|  4 |   6 |   7 |  0.931585 | Normal    |\n",
            "+----+-----+-----+-----------+-----------+\n",
            "|  5 |   7 |   8 |  1        | Normal    |\n",
            "+----+-----+-----+-----------+-----------+\n",
            "|  6 |   8 |   9 |  0.952381 | Normal    |\n",
            "+----+-----+-----+-----------+-----------+\n",
            "|  7 |   9 |  10 |  1.11111  | Normal    |\n",
            "+----+-----+-----+-----------+-----------+\n",
            "|  8 |  80 | 110 | 39.2309   | Outlier   |\n",
            "+----+-----+-----+-----------+-----------+\n",
            "|  9 |  10 |  11 |  1.11111  | Normal    |\n",
            "+----+-----+-----+-----------+-----------+\n"
          ]
        }
      ]
    },
    {
      "cell_type": "markdown",
      "source": [
        "## Penggunaan Library Sklearn untuk menghitung LOF"
      ],
      "metadata": {
        "id": "EoNNb6d7Ag1d"
      }
    },
    {
      "cell_type": "code",
      "source": [
        "import numpy as np\n",
        "from sklearn.neighbors import LocalOutlierFactor\n",
        "\n",
        "# Data awal\n",
        "data = np.array([\n",
        "    [2, 4], [4, 5], [2, 3], [5, 6], [6, 7],\n",
        "    [7, 8], [8, 9], [9, 10], [80, 110], [10, 11]\n",
        "])\n",
        "\n",
        "# Definisikan ground_truth (anggap titik (50, 60) sebagai outlier)\n",
        "ground_truth = np.array([1]*9 + [-1])  # 1 = normal, -1 = outlier\n",
        "\n",
        "# LOF model\n",
        "clf = LocalOutlierFactor(n_neighbors=3, contamination=0.1)\n",
        "y_pred = clf.fit_predict(data)\n",
        "\n",
        "# Hitung jumlah kesalahan prediksi\n",
        "n_errors = (y_pred != ground_truth).sum()\n",
        "\n",
        "# Skor LOF\n",
        "X_scores = -clf.negative_outlier_factor_\n",
        "\n",
        "\n",
        "print(\"LOF Scores:\", X_scores)\n",
        "# Format prediksi dengan indeks\n",
        "formatted_predictions = [f\"{idx}:{pred}\" for idx, pred in enumerate(y_pred)]\n",
        "\n",
        "print(\"Formatted Predictions with Indices:\", formatted_predictions)\n",
        "print(\"Number of errors:\", n_errors)\n"
      ],
      "metadata": {
        "colab": {
          "base_uri": "https://localhost:8080/"
        },
        "id": "WqngKsNuCalS",
        "outputId": "9eeb55a4-aea8-46bb-f6ab-08476c3227de"
      },
      "execution_count": 7,
      "outputs": [
        {
          "output_type": "stream",
          "name": "stdout",
          "text": [
            "LOF Scores: [ 1.08608388  1.08608388  1.08608388  0.93158453  0.93158453  1.\n",
            "  0.95238095  1.11111111 39.23089414  1.11111111]\n",
            "Formatted Predictions with Indices: ['0:1', '1:1', '2:1', '3:1', '4:1', '5:1', '6:1', '7:1', '8:-1', '9:1']\n",
            "Number of errors: 2\n"
          ]
        }
      ]
    },
    {
      "cell_type": "markdown",
      "source": [
        "## Visualisasi Outlier"
      ],
      "metadata": {
        "id": "vx7k3xt_HjZs"
      }
    },
    {
      "cell_type": "code",
      "source": [
        "import numpy as np\n",
        "import matplotlib.pyplot as plt\n",
        "from sklearn.neighbors import LocalOutlierFactor\n",
        "\n",
        "# Data awal\n",
        "data = np.array([\n",
        "    [2, 4], [4, 5], [2, 3], [5, 6], [6, 7],\n",
        "    [7, 8], [8, 9], [9, 10], [80, 110], [10, 11]\n",
        "])\n",
        "\n",
        "# Definisikan ground_truth (anggap titik (50, 60) sebagai outlier)\n",
        "ground_truth = np.array([1]*9 + [-1])  # 1 = normal, -1 = outlier\n",
        "\n",
        "# LOF model\n",
        "clf = LocalOutlierFactor(n_neighbors=3, contamination=0.1)\n",
        "y_pred = clf.fit_predict(data)\n",
        "\n",
        "# Skor LOF\n",
        "X_scores = -clf.negative_outlier_factor_\n",
        "\n",
        "# Visualisasi\n",
        "plt.figure(figsize=(8, 6))\n",
        "\n",
        "# Plot titik normal\n",
        "plt.scatter(data[y_pred == 1, 0], data[y_pred == 1, 1], color='b', marker='x', label='Normal Data')\n",
        "\n",
        "# Plot outlier\n",
        "plt.scatter(data[y_pred == -1, 0], data[y_pred == -1, 1], color='r', marker='x', label='Outlier')\n",
        "\n",
        "# Tambahkan lingkaran untuk menunjukkan tingkat outlier berdasarkan skor LOF\n",
        "radius = (X_scores - X_scores.min()) / (X_scores.max() - X_scores.min())\n",
        "plt.scatter(data[:, 0], data[:, 1], s=1000 * radius, edgecolors='k',\n",
        "            facecolors='none', label='LOF Score')\n",
        "\n",
        "plt.title('Local Outlier Factor (LOF) Visualization')\n",
        "plt.xlabel('X-axis')\n",
        "plt.ylabel('Y-axis')\n",
        "plt.legend()\n",
        "plt.grid(True)\n",
        "plt.show()\n"
      ],
      "metadata": {
        "colab": {
          "base_uri": "https://localhost:8080/",
          "height": 564
        },
        "id": "SB_7VDFeHeb6",
        "outputId": "26e5da1c-4fdb-47ce-813f-806354e782af"
      },
      "execution_count": 8,
      "outputs": [
        {
          "output_type": "display_data",
          "data": {
            "text/plain": [
              "<Figure size 800x600 with 1 Axes>"
            ],
            "image/png": "[encoded data removed]"
          },
          "metadata": {}
        }
      ]
    }
  ]
}